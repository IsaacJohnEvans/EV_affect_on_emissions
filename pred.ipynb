{
 "cells": [
  {
   "cell_type": "code",
   "execution_count": 351,
   "metadata": {},
   "outputs": [],
   "source": [
    "#coding:utf8\n",
    "import pandas as pd \n",
    "import numpy as np\n",
    "import tensorflow as tf\n",
    "import keras_tuner as kt\n",
    "import matplotlib.pyplot as plt\n",
    "from tensorflow import keras\n",
    "\n",
    "from tensorflow.keras import layers, metrics\n",
    "from sklearn.ensemble import RandomForestRegressor"
   ]
  },
  {
   "cell_type": "code",
   "execution_count": 352,
   "metadata": {},
   "outputs": [],
   "source": [
    "def load_data(em_data = True, veh_data = True, air_data = True):\n",
    "    args = []\n",
    "    if em_data:\n",
    "        EU_em_df = pd.read_excel('Data/EU_em.xlsx',engine='openpyxl')\n",
    "        EU_em_annual_df = pd.read_csv('Data/EU_em_annual.csv',)\n",
    "        UK_em_df = pd.read_excel('Data/UK_em.ods', nrows = 14)\n",
    "        US_em_df = pd.read_excel('Data/US_em.xlsx',engine='openpyxl')\n",
    "        # Emissions data Processing\n",
    "        EU_em_df = EU_em_df.set_index('Month')\n",
    "        EU_em_annual_df = EU_em_df.groupby(np.arange(len(EU_em_df))//(12)).sum()\n",
    "        EU_em_annual_df.index = np.linspace(1973, 2021, EU_em_annual_df.shape[0], dtype=np.int32)\n",
    "        UK_em_df = UK_em_df.transpose()\n",
    "        UK_em_df.columns = UK_em_df.iloc[0, :]\n",
    "        UK_em_df = UK_em_df.drop('Year')\n",
    "        US_em_df = US_em_df.transpose()\n",
    "        US_em_df.columns = US_em_df.iloc[0, :]\n",
    "        US_em_df = US_em_df.replace('+', 0)\n",
    "        US_em_df = US_em_df.drop('Year')\n",
    "        args += [EU_em_df, EU_em_annual_df, UK_em_df, US_em_df]\n",
    "    if veh_data:\n",
    "        EU_veh_df = pd.read_csv('Data/EU_veh.csv')\n",
    "        UK_veh_df = pd.read_excel('Data/UK_veh.ods', nrows= 27)\n",
    "        US_veh_df = pd.read_excel('Data/US_veh.xlsx', nrows = 9)\n",
    "        US_veh_df = US_veh_df.transpose()\n",
    "        US_veh_df.columns = US_veh_df.iloc[0, :]\n",
    "        US_veh_df = US_veh_df.drop('Model Year')\n",
    "        args += [EU_veh_df, UK_veh_df, US_veh_df]\n",
    "    if air_data:\n",
    "        # Secondary Data \n",
    "        # Air pollution\n",
    "        # UK 1970-2019/2022\n",
    "        UK_nox_annual_df = pd.read_csv('Data/Figure06_NOx_time_series.csv')\n",
    "        UK_pm_all_annual_df = pd.read_csv('Data/Figure03_PM_time_series.csv')\n",
    "                \n",
    "        # USA Since 1970-2020, plz Access through column id(numbers)\n",
    "        USA_nox_annual_df = pd.read_csv('Data/US_nox_em_time_series.csv') # National Emissions Totals (thousands of tons)\n",
    "        USA_pm_10_annual_df = pd.read_csv('Data/US_pm10_year.csv')        #\n",
    "        USA_pm_2_5_annual_df = pd.read_csv('Data/US_pm2_5_year.csv')\n",
    "        \n",
    "        USA_pm_2_5_annual_df = USA_pm_2_5_annual_df.transpose()\n",
    "        USA_pm_10_annual_df = USA_pm_10_annual_df.transpose()\n",
    "                \n",
    "        # OCED DATA\n",
    "        OCED_PM10_df = pd.read_excel('Data/PM10_ROAD_OCED_WORLD_DATA.xlsx')\n",
    "        OCED_NOX_df = pd.read_excel('Data/NOX_ROAD_OCED_WORLD_DATA.xlsx')\n",
    "        OCED_PM2_5_df = pd.read_excel('Data/PM2_5_ROAD_OCED_WORLD_DATA.xlsx')\n",
    "    \n",
    "    args += [UK_nox_annual_df,UK_pm_all_annual_df,USA_pm_10_annual_df,USA_pm_2_5_annual_df,USA_nox_annual_df,OCED_PM10_df,OCED_NOX_df,OCED_PM2_5_df]\n",
    "        \n",
    "    return args\n",
    "\n",
    "def process_data(X, y):\n",
    "    X_norm, X_attrs, y_norm, y_attrs = normalise(X, y)\n",
    "    y_norm = np.roll(y_norm, -time_step)\n",
    "    nrows = X_norm.shape[0]\n",
    "    samples = X_norm.shape[1]\n",
    "    X_norm = np.repeat(X_norm, data_memory, 0).reshape(nrows, data_memory, samples)\n",
    "    split_point = int(X_norm.shape[0] *0.75)\n",
    "    x_train, x_test, y_train, y_test = train_test_split(X_norm, y_norm, split_point)\n",
    "    return x_train, x_test, y_train, y_test, nrows, samples, X_norm, y_norm, X_attrs, y_attrs\n",
    "\n",
    "def normalise(X, y):\n",
    "    X_attrs = np.zeros((X.shape[-1], 2))\n",
    "    y_attrs = np.zeros((y.shape[-1], 2))\n",
    "    for i in range(X.shape[-1]):\n",
    "        X_attrs[i, :] = [np.mean(X[:, i]), np.var(X[:, i])]\n",
    "        X[:, i] = (X[:, i] - np.mean(X[:, i]))/np.var(X[:, i])**0.5\n",
    "    for i in range(y.shape[-1]):\n",
    "        y_attrs[i, :] = [np.mean(y[:, i]), np.var(y[:, i])]\n",
    "        y[:, i] = (y[:, i] - np.mean(y[:, i]))/np.var(y[:, i])**0.5  \n",
    "    return X, X_attrs, y, y_attrs\n",
    "\n",
    "def train_test_split(X, y, split_point):\n",
    "    x_train = X[:split_point, :, :]\n",
    "    x_test = X[split_point:, :, :]\n",
    "    y_train = y[:split_point]\n",
    "    y_test = y[split_point:]\n",
    "    return x_train, x_test, y_train, y_test\n",
    "        \n",
    "def create_model(layers, input_shape, print_summary):\n",
    "    model = keras.Sequential(layers)\n",
    "    model.build(input_shape=input_shape)\n",
    "    model.compile(loss='mse', optimizer='adam')\n",
    "    if print_summary:\n",
    "        model.summary()\n",
    "    return model\n",
    "\n",
    "def plot_pred(y, y_pred, plot_range):\n",
    "    t = np.linspace(plot_range[0], plot_range[1], plot_range[1] - plot_range[0])\n",
    "    plt.plot(t, y[plot_range[0] : plot_range[1]], 'g', t, y_pred[plot_range[0]: plot_range[1]], 'r')\n",
    "\n",
    "def run_model(X, y, data_memory, epochs, batch_size, model_des, plot_pred_bool, plot_range, print_summary):\n",
    "    x_train, x_test, y_train, y_test, nrows, samples, X_norm, y_norm, X_attrs, y_attrs = process_data(X, y)\n",
    "    input_shape = (x_train.shape[0], data_memory, samples)\n",
    "    model = create_model(model_layer, input_shape, print_summary)\n",
    "    history = model.fit(x_train, y_train, validation_split = 0.1, epochs= epochs , batch_size=batch_size)\n",
    "    y_pred_norm = np.concatenate((model.predict(x_train[:, :, :]), model.predict(x_test[:, :, :])))\n",
    "    mse = metrics.MeanSquaredError()\n",
    "    mse.update_state(y_norm, y_pred_norm)\n",
    "    test_loss = mse.result().numpy()\n",
    "    print(y_attrs)\n",
    "    y_pred = np.roll(y_pred_norm /y_attrs[:, 1]**0.5 + y_attrs[:, 0] , -time_step)\n",
    "    print(test_loss)\n",
    "    train_loss = history.history['loss'][-1]\n",
    "    val_loss = history.history['val_loss'][-1]\n",
    "    model_performance = [time_step, data_memory, samples, model_des, epochs, batch_size, train_loss, val_loss, test_loss]\n",
    "    df_model = pd.DataFrame(model_performance).transpose()\n",
    "    df_model.columns = df_model_columns\n",
    "    df_model.to_csv('model_performance.csv', mode = 'a', header= False)\n",
    "    if plot_pred_bool:\n",
    "        plot_pred(y, y_pred, plot_range)\n",
    "    return y, y_pred\n"
   ]
  },
  {
   "cell_type": "code",
   "execution_count": 353,
   "metadata": {},
   "outputs": [
    {
     "name": "stderr",
     "output_type": "stream",
     "text": [
      "C:\\Apps\\lib\\site-packages\\openpyxl\\worksheet\\_reader.py:312: UserWarning: Unknown extension is not supported and will be removed\n",
      "  warn(msg)\n"
     ]
    }
   ],
   "source": [
    "args = load_data()\n",
    "EU_em_df, EU_em_annual_df, UK_em_df, US_em_df, EU_veh_df, UK_veh_df, US_veh_df, UK_nox_annual_df,UK_pm_all_annual_df,USA_pm_10_annual_df,USA_pm_2_5_annual_df,USA_nox_annual_df,OCED_PM10_df,OCED_NOX_df,OCED_PM2_5_df = args"
   ]
  },
  {
   "cell_type": "code",
   "execution_count": 354,
   "metadata": {},
   "outputs": [],
   "source": [
    "time_step = 1\n",
    "data_memory = 5\n",
    "epochs = 20\n",
    "batch_size = 1\n",
    "df_model_columns =  ['time_step', 'data_memory', 'samples', 'layers', 'epochs', 'batch_size', 'training_loss', 'val_loss', 'test_loss']\n",
    "model_des = 'D32, GRU32, GRU32 D1'\n",
    "model_layer = [layers.Dense(32, activation= 'sigmoid'),\n",
    "                layers.GRU(32,activation= 'softsign', recurrent_activation = 'relu', recurrent_dropout = 0.1, dropout = 0.1),\n",
    "                layers.Dense(1)]\n",
    "# sigmoid, softsign, relu \n",
    "# activation='softsign', recurrent_activation='relu'\n",
    "plot_range = [0]\n",
    "plot_range += [plot_range[0] + 30]\n",
    "plot_pred_bool = False  \n",
    "print_summary = False\n",
    "#model_df = pd.DataFrame(model_performance).transpose()\n",
    "#model_df.to_csv('model_performance.csv')\n",
    "EU_em_X, EU_em_y = np.split(EU_em_df.to_numpy(), [11], 1)\n",
    "UK_em_X, UK_em_y = np.split(UK_em_df.to_numpy(dtype=np.float64), [13], 1)\n",
    "US_em_X, US_em_y, a = np.split(US_em_df.to_numpy(dtype=np.float64), [45,46], 1)\n",
    "EU_veh_X = EU_veh_df.to_numpy()\n",
    "UK_veh_X = UK_veh_df.to_numpy(dtype=np.float64)\n",
    "US_veh_X, US_veh_y = np.split(US_veh_df.to_numpy(dtype=np.float64), [8], 1)\n"
   ]
  },
  {
   "cell_type": "code",
   "execution_count": 355,
   "metadata": {},
   "outputs": [
    {
     "name": "stdout",
     "output_type": "stream",
     "text": [
      "Epoch 1/20\n",
      "19/19 [==============================] - 3s 35ms/step - loss: 1.1012 - val_loss: 0.3422\n",
      "Epoch 2/20\n",
      "19/19 [==============================] - 0s 6ms/step - loss: 0.7304 - val_loss: 0.2762\n",
      "Epoch 3/20\n",
      "19/19 [==============================] - 0s 6ms/step - loss: 0.3845 - val_loss: 0.8647\n",
      "Epoch 4/20\n",
      "19/19 [==============================] - 0s 6ms/step - loss: 0.2127 - val_loss: 1.0917\n",
      "Epoch 5/20\n",
      "19/19 [==============================] - 0s 6ms/step - loss: 0.1881 - val_loss: 0.1593\n",
      "Epoch 6/20\n",
      "19/19 [==============================] - 0s 6ms/step - loss: 0.0560 - val_loss: 0.1209\n",
      "Epoch 7/20\n",
      "19/19 [==============================] - 0s 6ms/step - loss: 0.1558 - val_loss: 0.5844\n",
      "Epoch 8/20\n",
      "19/19 [==============================] - 0s 6ms/step - loss: 0.1031 - val_loss: 0.5014\n",
      "Epoch 9/20\n",
      "19/19 [==============================] - 0s 5ms/step - loss: 0.1182 - val_loss: 0.4755\n",
      "Epoch 10/20\n",
      "19/19 [==============================] - 0s 5ms/step - loss: 0.0958 - val_loss: 0.1363\n",
      "Epoch 11/20\n",
      "19/19 [==============================] - 0s 6ms/step - loss: 0.0796 - val_loss: 0.0827\n",
      "Epoch 12/20\n",
      "19/19 [==============================] - 0s 9ms/step - loss: 0.0618 - val_loss: 0.1250\n",
      "Epoch 13/20\n",
      "19/19 [==============================] - 0s 6ms/step - loss: 0.0259 - val_loss: 0.0996\n",
      "Epoch 14/20\n",
      "19/19 [==============================] - 0s 6ms/step - loss: 0.0496 - val_loss: 0.0272\n",
      "Epoch 15/20\n",
      "19/19 [==============================] - 0s 5ms/step - loss: 0.1132 - val_loss: 0.0133\n",
      "Epoch 16/20\n",
      "19/19 [==============================] - 0s 5ms/step - loss: 0.0664 - val_loss: 0.1547\n",
      "Epoch 17/20\n",
      "19/19 [==============================] - 0s 6ms/step - loss: 0.0646 - val_loss: 0.1435\n",
      "Epoch 18/20\n",
      "19/19 [==============================] - 0s 6ms/step - loss: 0.0642 - val_loss: 0.1613\n",
      "Epoch 19/20\n",
      "19/19 [==============================] - 0s 7ms/step - loss: 0.0548 - val_loss: 0.0413\n",
      "Epoch 20/20\n",
      "19/19 [==============================] - 0s 7ms/step - loss: 0.0491 - val_loss: 0.0418\n",
      "[[ 1788.64       18584.27373333]]\n",
      "0.18243606\n"
     ]
    }
   ],
   "source": [
    "y, y_pred = run_model(US_em_X[:, :15], US_em_y, data_memory, epochs, batch_size, model_des, plot_pred_bool, plot_range, print_summary)"
   ]
  },
  {
   "cell_type": "code",
   "execution_count": 356,
   "metadata": {},
   "outputs": [
    {
     "data": {
      "text/plain": [
       "[<matplotlib.lines.Line2D at 0x2afb804fa00>]"
      ]
     },
     "execution_count": 356,
     "metadata": {},
     "output_type": "execute_result"
    },
    {
     "data": {
      "image/png": "[encoded data removed]",
      "text/plain": [
       "<Figure size 432x288 with 1 Axes>"
      ]
     },
     "metadata": {
      "needs_background": "light"
     },
     "output_type": "display_data"
    }
   ],
   "source": [
    "t = np.linspace(1990, 2019, 30)\n",
    "plt.plot(t, y_pred)"
   ]
  },
  {
   "cell_type": "code",
   "execution_count": 357,
   "metadata": {},
   "outputs": [
    {
     "data": {
      "image/png": "[encoded data removed]",
      "text/plain": [
       "<Figure size 432x288 with 1 Axes>"
      ]
     },
     "metadata": {
      "needs_background": "light"
     },
     "output_type": "display_data"
    }
   ],
   "source": [
    "plot_pred(US_em_y, y_pred, plot_range)"
   ]
  },
  {
   "cell_type": "code",
   "execution_count": 358,
   "metadata": {},
   "outputs": [
    {
     "data": {
      "text/plain": [
       "[<matplotlib.lines.Line2D at 0x2afaa439e10>]"
      ]
     },
     "execution_count": 358,
     "metadata": {},
     "output_type": "execute_result"
    },
    {
     "data": {
      "image/png": "[encoded data removed]",
      "text/plain": [
       "<Figure size 432x288 with 1 Axes>"
      ]
     },
     "metadata": {
      "needs_background": "light"
     },
     "output_type": "display_data"
    }
   ],
   "source": [
    "UK_em_df.shape\n",
    "t = np.linspace(1990, 2020, 30, endpoint=True)\n",
    "plt.plot(t, UK_em_X[:, -2])"
   ]
  },
  {
   "cell_type": "code",
   "execution_count": 359,
   "metadata": {},
   "outputs": [
    {
     "name": "stdout",
     "output_type": "stream",
     "text": [
      "Trial 3 Complete [00h 00m 07s]\n",
      "val_loss: 0.1846400871872902\n",
      "\n",
      "Best val_loss So Far: 0.1846400871872902\n",
      "Total elapsed time: 00h 00m 25s\n",
      "INFO:tensorflow:Oracle triggered exit\n",
      "WARNING:tensorflow:Detecting that an object or model or tf.train.Checkpoint is being deleted with unrestored values. See the following logs for the specific values in question. To silence these warnings, use `status.expect_partial()`. See https://www.tensorflow.org/api_docs/python/tf/train/Checkpoint#restorefor details about the status object returned by the restore function.\n",
      "WARNING:tensorflow:Value in checkpoint could not be found in the restored object: (root).optimizer.iter\n",
      "WARNING:tensorflow:Value in checkpoint could not be found in the restored object: (root).optimizer.beta_1\n",
      "WARNING:tensorflow:Value in checkpoint could not be found in the restored object: (root).optimizer.beta_2\n",
      "WARNING:tensorflow:Value in checkpoint could not be found in the restored object: (root).optimizer.decay\n",
      "WARNING:tensorflow:Value in checkpoint could not be found in the restored object: (root).optimizer.learning_rate\n",
      "Model: \"sequential\"\n",
      "_________________________________________________________________\n",
      " Layer (type)                Output Shape              Param #   \n",
      "=================================================================\n",
      " dense (Dense)               (439, 5, 64)              768       \n",
      "                                                                 \n",
      " gru (GRU)                   (439, 80)                 35040     \n",
      "                                                                 \n",
      " dense_1 (Dense)             (439, 1)                  81        \n",
      "                                                                 \n",
      "=================================================================\n",
      "Total params: 35,889\n",
      "Trainable params: 35,889\n",
      "Non-trainable params: 0\n",
      "_________________________________________________________________\n",
      "Results summary\n",
      "Results in RNN_em\\RNN_em\n",
      "Showing 10 best trials\n",
      "Objective(name='val_loss', direction='min')\n",
      "Trial summary\n",
      "Hyperparameters:\n",
      "dense_units: 64\n",
      "GRU_units: 80\n",
      "Score: 0.1846400871872902\n",
      "Trial summary\n",
      "Hyperparameters:\n",
      "dense_units: 80\n",
      "GRU_units: 112\n",
      "Score: 0.20709296315908432\n",
      "Trial summary\n",
      "Hyperparameters:\n",
      "dense_units: 16\n",
      "GRU_units: 96\n",
      "Score: 0.2741342708468437\n",
      "Epoch 1/10\n",
      "14/14 [==============================] - 2s 4ms/step - loss: 0.3588\n",
      "Epoch 2/10\n",
      "14/14 [==============================] - 0s 3ms/step - loss: 0.1615\n",
      "Epoch 3/10\n",
      "14/14 [==============================] - 0s 4ms/step - loss: 0.1256\n",
      "Epoch 4/10\n",
      "14/14 [==============================] - 0s 4ms/step - loss: 0.1182\n",
      "Epoch 5/10\n",
      "14/14 [==============================] - 0s 4ms/step - loss: 0.1150\n",
      "Epoch 6/10\n",
      "14/14 [==============================] - 0s 6ms/step - loss: 0.1134\n",
      "Epoch 7/10\n",
      "14/14 [==============================] - 0s 5ms/step - loss: 0.1095\n",
      "Epoch 8/10\n",
      "14/14 [==============================] - 0s 5ms/step - loss: 0.1081\n",
      "Epoch 9/10\n",
      "14/14 [==============================] - 0s 5ms/step - loss: 0.1059\n",
      "Epoch 10/10\n",
      "14/14 [==============================] - 0s 5ms/step - loss: 0.1052\n"
     ]
    }
   ],
   "source": [
    "def build_model(hp):\n",
    "    model = keras.Sequential()\n",
    "    model.add(layers.Dense(units=hp.Int(\"dense_units\", min_value=16, max_value=128, step=16)))\n",
    "    model.add(layers.GRU(units=hp.Int(\"GRU_units\", min_value=16, max_value=128, step=16), activation='sigmoid', recurrent_activation='sigmoid'))\n",
    "    model.add(layers.Dense(1))\n",
    "    model.compile(optimizer='adam', loss = 'mse')\n",
    "    return model\n",
    "val_split = int(x_train.shape[0] * 0.9)\n",
    "x_train_val, x_val, y_train_val, y_val = train_test_split(x_train, y_train, val_split)\n",
    "tuner = kt.RandomSearch(\n",
    "    hypermodel=build_model,\n",
    "    objective=\"val_loss\",\n",
    "    max_trials=3,\n",
    "    executions_per_trial=2,\n",
    "    overwrite=True,\n",
    "    directory=\"RNN_em\",\n",
    "    project_name=\"RNN_em\",\n",
    "    )\n",
    "\n",
    "tuner.search(x_train, y_train, epochs=2, validation_data=(x_val, y_val))\n",
    "models = tuner.get_best_models(num_models=2)\n",
    "best_model = models[0]\n",
    "input_shape = (x_train.shape[0], data_memory, samples)\n",
    "best_model.build(input_shape=input_shape)\n",
    "best_model.summary()\n",
    "tuner.results_summary()\n",
    "# Get the top 2 hyperparameters.\n",
    "best_hps = tuner.get_best_hyperparameters(5)\n",
    "# Build the model with the best hp.\n",
    "model = build_model(best_hps[0])\n",
    "history = model.fit(x=x_train, y=y_train, epochs=10)"
   ]
  },
  {
   "cell_type": "code",
   "execution_count": 360,
   "metadata": {},
   "outputs": [
    {
     "ename": "ValueError",
     "evalue": "x and y must have same first dimension, but have shapes (20,) and (0, 1)",
     "output_type": "error",
     "traceback": [
      "\u001b[1;31m---------------------------------------------------------------------------\u001b[0m",
      "\u001b[1;31mValueError\u001b[0m                                Traceback (most recent call last)",
      "\u001b[1;32mC:\\Users\\ISAACE~1\\AppData\\Local\\Temp/ipykernel_2404/2551880691.py\u001b[0m in \u001b[0;36m<module>\u001b[1;34m\u001b[0m\n\u001b[0;32m      2\u001b[0m \u001b[0mplot_range\u001b[0m \u001b[1;33m+=\u001b[0m \u001b[1;33m[\u001b[0m\u001b[0mplot_range\u001b[0m\u001b[1;33m[\u001b[0m\u001b[1;36m0\u001b[0m\u001b[1;33m]\u001b[0m \u001b[1;33m+\u001b[0m \u001b[1;36m20\u001b[0m\u001b[1;33m]\u001b[0m\u001b[1;33m\u001b[0m\u001b[1;33m\u001b[0m\u001b[0m\n\u001b[0;32m      3\u001b[0m \u001b[0mt\u001b[0m \u001b[1;33m=\u001b[0m \u001b[0mnp\u001b[0m\u001b[1;33m.\u001b[0m\u001b[0mlinspace\u001b[0m\u001b[1;33m(\u001b[0m\u001b[0mplot_range\u001b[0m\u001b[1;33m[\u001b[0m\u001b[1;36m0\u001b[0m\u001b[1;33m]\u001b[0m\u001b[1;33m,\u001b[0m \u001b[0mplot_range\u001b[0m\u001b[1;33m[\u001b[0m\u001b[1;36m1\u001b[0m\u001b[1;33m]\u001b[0m\u001b[1;33m,\u001b[0m \u001b[0mplot_range\u001b[0m\u001b[1;33m[\u001b[0m\u001b[1;36m1\u001b[0m\u001b[1;33m]\u001b[0m \u001b[1;33m-\u001b[0m \u001b[0mplot_range\u001b[0m\u001b[1;33m[\u001b[0m\u001b[1;36m0\u001b[0m\u001b[1;33m]\u001b[0m\u001b[1;33m)\u001b[0m\u001b[1;33m\u001b[0m\u001b[1;33m\u001b[0m\u001b[0m\n\u001b[1;32m----> 4\u001b[1;33m \u001b[0mplt\u001b[0m\u001b[1;33m.\u001b[0m\u001b[0mplot\u001b[0m\u001b[1;33m(\u001b[0m\u001b[0mt\u001b[0m\u001b[1;33m,\u001b[0m \u001b[0my\u001b[0m\u001b[1;33m[\u001b[0m\u001b[0mplot_range\u001b[0m\u001b[1;33m[\u001b[0m\u001b[1;36m0\u001b[0m\u001b[1;33m]\u001b[0m \u001b[1;33m:\u001b[0m \u001b[0mplot_range\u001b[0m\u001b[1;33m[\u001b[0m\u001b[1;36m1\u001b[0m\u001b[1;33m]\u001b[0m\u001b[1;33m]\u001b[0m\u001b[1;33m,\u001b[0m \u001b[1;34m'g'\u001b[0m\u001b[1;33m,\u001b[0m \u001b[0mt\u001b[0m\u001b[1;33m,\u001b[0m \u001b[0my_pred\u001b[0m\u001b[1;33m[\u001b[0m\u001b[0mplot_range\u001b[0m\u001b[1;33m[\u001b[0m\u001b[1;36m0\u001b[0m\u001b[1;33m]\u001b[0m\u001b[1;33m:\u001b[0m \u001b[0mplot_range\u001b[0m\u001b[1;33m[\u001b[0m\u001b[1;36m1\u001b[0m\u001b[1;33m]\u001b[0m\u001b[1;33m]\u001b[0m\u001b[1;33m,\u001b[0m \u001b[1;34m'r'\u001b[0m\u001b[1;33m)\u001b[0m\u001b[1;33m\u001b[0m\u001b[1;33m\u001b[0m\u001b[0m\n\u001b[0m",
      "\u001b[1;32mC:\\Apps\\lib\\site-packages\\matplotlib\\pyplot.py\u001b[0m in \u001b[0;36mplot\u001b[1;34m(scalex, scaley, data, *args, **kwargs)\u001b[0m\n\u001b[0;32m   3017\u001b[0m \u001b[1;33m@\u001b[0m\u001b[0m_copy_docstring_and_deprecators\u001b[0m\u001b[1;33m(\u001b[0m\u001b[0mAxes\u001b[0m\u001b[1;33m.\u001b[0m\u001b[0mplot\u001b[0m\u001b[1;33m)\u001b[0m\u001b[1;33m\u001b[0m\u001b[1;33m\u001b[0m\u001b[0m\n\u001b[0;32m   3018\u001b[0m \u001b[1;32mdef\u001b[0m \u001b[0mplot\u001b[0m\u001b[1;33m(\u001b[0m\u001b[1;33m*\u001b[0m\u001b[0margs\u001b[0m\u001b[1;33m,\u001b[0m \u001b[0mscalex\u001b[0m\u001b[1;33m=\u001b[0m\u001b[1;32mTrue\u001b[0m\u001b[1;33m,\u001b[0m \u001b[0mscaley\u001b[0m\u001b[1;33m=\u001b[0m\u001b[1;32mTrue\u001b[0m\u001b[1;33m,\u001b[0m \u001b[0mdata\u001b[0m\u001b[1;33m=\u001b[0m\u001b[1;32mNone\u001b[0m\u001b[1;33m,\u001b[0m \u001b[1;33m**\u001b[0m\u001b[0mkwargs\u001b[0m\u001b[1;33m)\u001b[0m\u001b[1;33m:\u001b[0m\u001b[1;33m\u001b[0m\u001b[1;33m\u001b[0m\u001b[0m\n\u001b[1;32m-> 3019\u001b[1;33m     return gca().plot(\n\u001b[0m\u001b[0;32m   3020\u001b[0m         \u001b[1;33m*\u001b[0m\u001b[0margs\u001b[0m\u001b[1;33m,\u001b[0m \u001b[0mscalex\u001b[0m\u001b[1;33m=\u001b[0m\u001b[0mscalex\u001b[0m\u001b[1;33m,\u001b[0m \u001b[0mscaley\u001b[0m\u001b[1;33m=\u001b[0m\u001b[0mscaley\u001b[0m\u001b[1;33m,\u001b[0m\u001b[1;33m\u001b[0m\u001b[1;33m\u001b[0m\u001b[0m\n\u001b[0;32m   3021\u001b[0m         **({\"data\": data} if data is not None else {}), **kwargs)\n",
      "\u001b[1;32mC:\\Apps\\lib\\site-packages\\matplotlib\\axes\\_axes.py\u001b[0m in \u001b[0;36mplot\u001b[1;34m(self, scalex, scaley, data, *args, **kwargs)\u001b[0m\n\u001b[0;32m   1603\u001b[0m         \"\"\"\n\u001b[0;32m   1604\u001b[0m         \u001b[0mkwargs\u001b[0m \u001b[1;33m=\u001b[0m \u001b[0mcbook\u001b[0m\u001b[1;33m.\u001b[0m\u001b[0mnormalize_kwargs\u001b[0m\u001b[1;33m(\u001b[0m\u001b[0mkwargs\u001b[0m\u001b[1;33m,\u001b[0m \u001b[0mmlines\u001b[0m\u001b[1;33m.\u001b[0m\u001b[0mLine2D\u001b[0m\u001b[1;33m)\u001b[0m\u001b[1;33m\u001b[0m\u001b[1;33m\u001b[0m\u001b[0m\n\u001b[1;32m-> 1605\u001b[1;33m         \u001b[0mlines\u001b[0m \u001b[1;33m=\u001b[0m \u001b[1;33m[\u001b[0m\u001b[1;33m*\u001b[0m\u001b[0mself\u001b[0m\u001b[1;33m.\u001b[0m\u001b[0m_get_lines\u001b[0m\u001b[1;33m(\u001b[0m\u001b[1;33m*\u001b[0m\u001b[0margs\u001b[0m\u001b[1;33m,\u001b[0m \u001b[0mdata\u001b[0m\u001b[1;33m=\u001b[0m\u001b[0mdata\u001b[0m\u001b[1;33m,\u001b[0m \u001b[1;33m**\u001b[0m\u001b[0mkwargs\u001b[0m\u001b[1;33m)\u001b[0m\u001b[1;33m]\u001b[0m\u001b[1;33m\u001b[0m\u001b[1;33m\u001b[0m\u001b[0m\n\u001b[0m\u001b[0;32m   1606\u001b[0m         \u001b[1;32mfor\u001b[0m \u001b[0mline\u001b[0m \u001b[1;32min\u001b[0m \u001b[0mlines\u001b[0m\u001b[1;33m:\u001b[0m\u001b[1;33m\u001b[0m\u001b[1;33m\u001b[0m\u001b[0m\n\u001b[0;32m   1607\u001b[0m             \u001b[0mself\u001b[0m\u001b[1;33m.\u001b[0m\u001b[0madd_line\u001b[0m\u001b[1;33m(\u001b[0m\u001b[0mline\u001b[0m\u001b[1;33m)\u001b[0m\u001b[1;33m\u001b[0m\u001b[1;33m\u001b[0m\u001b[0m\n",
      "\u001b[1;32mC:\\Apps\\lib\\site-packages\\matplotlib\\axes\\_base.py\u001b[0m in \u001b[0;36m__call__\u001b[1;34m(self, data, *args, **kwargs)\u001b[0m\n\u001b[0;32m    313\u001b[0m                 \u001b[0mthis\u001b[0m \u001b[1;33m+=\u001b[0m \u001b[0margs\u001b[0m\u001b[1;33m[\u001b[0m\u001b[1;36m0\u001b[0m\u001b[1;33m]\u001b[0m\u001b[1;33m,\u001b[0m\u001b[1;33m\u001b[0m\u001b[1;33m\u001b[0m\u001b[0m\n\u001b[0;32m    314\u001b[0m                 \u001b[0margs\u001b[0m \u001b[1;33m=\u001b[0m \u001b[0margs\u001b[0m\u001b[1;33m[\u001b[0m\u001b[1;36m1\u001b[0m\u001b[1;33m:\u001b[0m\u001b[1;33m]\u001b[0m\u001b[1;33m\u001b[0m\u001b[1;33m\u001b[0m\u001b[0m\n\u001b[1;32m--> 315\u001b[1;33m             \u001b[1;32myield\u001b[0m \u001b[1;32mfrom\u001b[0m \u001b[0mself\u001b[0m\u001b[1;33m.\u001b[0m\u001b[0m_plot_args\u001b[0m\u001b[1;33m(\u001b[0m\u001b[0mthis\u001b[0m\u001b[1;33m,\u001b[0m \u001b[0mkwargs\u001b[0m\u001b[1;33m)\u001b[0m\u001b[1;33m\u001b[0m\u001b[1;33m\u001b[0m\u001b[0m\n\u001b[0m\u001b[0;32m    316\u001b[0m \u001b[1;33m\u001b[0m\u001b[0m\n\u001b[0;32m    317\u001b[0m     \u001b[1;32mdef\u001b[0m \u001b[0mget_next_color\u001b[0m\u001b[1;33m(\u001b[0m\u001b[0mself\u001b[0m\u001b[1;33m)\u001b[0m\u001b[1;33m:\u001b[0m\u001b[1;33m\u001b[0m\u001b[1;33m\u001b[0m\u001b[0m\n",
      "\u001b[1;32mC:\\Apps\\lib\\site-packages\\matplotlib\\axes\\_base.py\u001b[0m in \u001b[0;36m_plot_args\u001b[1;34m(self, tup, kwargs, return_kwargs)\u001b[0m\n\u001b[0;32m    499\u001b[0m \u001b[1;33m\u001b[0m\u001b[0m\n\u001b[0;32m    500\u001b[0m         \u001b[1;32mif\u001b[0m \u001b[0mx\u001b[0m\u001b[1;33m.\u001b[0m\u001b[0mshape\u001b[0m\u001b[1;33m[\u001b[0m\u001b[1;36m0\u001b[0m\u001b[1;33m]\u001b[0m \u001b[1;33m!=\u001b[0m \u001b[0my\u001b[0m\u001b[1;33m.\u001b[0m\u001b[0mshape\u001b[0m\u001b[1;33m[\u001b[0m\u001b[1;36m0\u001b[0m\u001b[1;33m]\u001b[0m\u001b[1;33m:\u001b[0m\u001b[1;33m\u001b[0m\u001b[1;33m\u001b[0m\u001b[0m\n\u001b[1;32m--> 501\u001b[1;33m             raise ValueError(f\"x and y must have same first dimension, but \"\n\u001b[0m\u001b[0;32m    502\u001b[0m                              f\"have shapes {x.shape} and {y.shape}\")\n\u001b[0;32m    503\u001b[0m         \u001b[1;32mif\u001b[0m \u001b[0mx\u001b[0m\u001b[1;33m.\u001b[0m\u001b[0mndim\u001b[0m \u001b[1;33m>\u001b[0m \u001b[1;36m2\u001b[0m \u001b[1;32mor\u001b[0m \u001b[0my\u001b[0m\u001b[1;33m.\u001b[0m\u001b[0mndim\u001b[0m \u001b[1;33m>\u001b[0m \u001b[1;36m2\u001b[0m\u001b[1;33m:\u001b[0m\u001b[1;33m\u001b[0m\u001b[1;33m\u001b[0m\u001b[0m\n",
      "\u001b[1;31mValueError\u001b[0m: x and y must have same first dimension, but have shapes (20,) and (0, 1)"
     ]
    },
    {
     "data": {
      "image/png": "[encoded data removed]",
      "text/plain": [
       "<Figure size 432x288 with 1 Axes>"
      ]
     },
     "metadata": {
      "needs_background": "light"
     },
     "output_type": "display_data"
    }
   ],
   "source": [
    "plot_range = [80]\n",
    "plot_range += [plot_range[0] + 20]\n",
    "t = np.linspace(plot_range[0], plot_range[1], plot_range[1] - plot_range[0])\n",
    "plt.plot(t, y[plot_range[0] : plot_range[1]], 'g', t, y_pred[plot_range[0]: plot_range[1]], 'r')"
   ]
  }
 ],
 "metadata": {
  "interpreter": {
   "hash": "4cabb15ab25fea23f8059180816881b2dbbe348c8bd98378d45c058900a30581"
  },
  "kernelspec": {
   "display_name": "Python 3.10.0 64-bit",
   "language": "python",
   "name": "python3"
  },
  "language_info": {
   "codemirror_mode": {
    "name": "ipython",
    "version": 3
   },
   "file_extension": ".py",
   "mimetype": "text/x-python",
   "name": "python",
   "nbconvert_exporter": "python",
   "pygments_lexer": "ipython3",
   "version": "3.10.0"
  },
  "orig_nbformat": 4
 },
 "nbformat": 4,
 "nbformat_minor": 2
}
